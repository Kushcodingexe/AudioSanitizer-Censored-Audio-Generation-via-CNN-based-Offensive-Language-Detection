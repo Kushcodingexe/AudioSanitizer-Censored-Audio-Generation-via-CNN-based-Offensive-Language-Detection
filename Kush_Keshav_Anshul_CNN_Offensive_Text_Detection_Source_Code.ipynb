{
  "nbformat": 4,
  "nbformat_minor": 0,
  "metadata": {
    "colab": {
      "provenance": []
    },
    "kernelspec": {
      "name": "python3",
      "display_name": "Python 3"
    },
    "language_info": {
      "name": "python"
    }
  },
  "cells": [
    {
      "cell_type": "code",
      "source": [
        "import numpy as np\n",
        "import pandas as pd\n",
        "import re\n",
        "import nltk\n",
        "import pickle\n",
        "!pip install gTTS\n",
        "from nltk.corpus import stopwords\n",
        "from tensorflow.keras.preprocessing.text import Tokenizer\n",
        "from tensorflow.keras.preprocessing.sequence import pad_sequences\n",
        "from tensorflow.keras.utils import to_categorical\n",
        "from tensorflow.keras.models import Sequential\n",
        "from tensorflow.keras.layers import Embedding, Conv1D, MaxPooling1D, GlobalMaxPooling1D, Dense, Dropout, BatchNormalization\n",
        "import matplotlib.pyplot as plt\n",
        "\n",
        "# Download NLTK stopwords\n",
        "nltk.download('stopwords')\n",
        "nltk.download('punkt')\n",
        "nltk.download('punkt_tab')\n",
        "# Load stop words\n",
        "stop_words = set(stopwords.words('english'))\n",
        "\n"
      ],
      "metadata": {
        "colab": {
          "base_uri": "https://localhost:8080/"
        },
        "id": "EreFpIUvSOad",
        "outputId": "a775b334-9823-4614-cfda-14c1f7ae45fb"
      },
      "execution_count": 39,
      "outputs": [
        {
          "output_type": "stream",
          "name": "stdout",
          "text": [
            "Requirement already satisfied: gTTS in /usr/local/lib/python3.10/dist-packages (2.5.4)\n",
            "Requirement already satisfied: requests<3,>=2.27 in /usr/local/lib/python3.10/dist-packages (from gTTS) (2.32.3)\n",
            "Requirement already satisfied: click<8.2,>=7.1 in /usr/local/lib/python3.10/dist-packages (from gTTS) (8.1.7)\n",
            "Requirement already satisfied: charset-normalizer<4,>=2 in /usr/local/lib/python3.10/dist-packages (from requests<3,>=2.27->gTTS) (3.4.0)\n",
            "Requirement already satisfied: idna<4,>=2.5 in /usr/local/lib/python3.10/dist-packages (from requests<3,>=2.27->gTTS) (3.10)\n",
            "Requirement already satisfied: urllib3<3,>=1.21.1 in /usr/local/lib/python3.10/dist-packages (from requests<3,>=2.27->gTTS) (2.2.3)\n",
            "Requirement already satisfied: certifi>=2017.4.17 in /usr/local/lib/python3.10/dist-packages (from requests<3,>=2.27->gTTS) (2024.8.30)\n"
          ]
        },
        {
          "output_type": "stream",
          "name": "stderr",
          "text": [
            "[nltk_data] Downloading package stopwords to /root/nltk_data...\n",
            "[nltk_data]   Package stopwords is already up-to-date!\n",
            "[nltk_data] Downloading package punkt to /root/nltk_data...\n",
            "[nltk_data]   Package punkt is already up-to-date!\n",
            "[nltk_data] Downloading package punkt_tab to /root/nltk_data...\n",
            "[nltk_data]   Package punkt_tab is already up-to-date!\n"
          ]
        }
      ]
    },
    {
      "cell_type": "code",
      "source": [
        "# Text Cleaning Function\n",
        "def clean_text(raw_text):\n",
        "    # Remove user handles (e.g., @username)\n",
        "    text = re.sub(r\"@[\\w]*\", \"\", raw_text)\n",
        "    # Remove URLs\n",
        "    text = re.sub(r\"http\\S+|www\\S+|https\\S+\", '', raw_text, flags=re.MULTILINE)\n",
        "    # Remove special characters, punctuation, and digits\n",
        "    text = re.sub(r'\\W', ' ', raw_text)\n",
        "    text = re.sub(r'\\d', '', text)\n",
        "    # Remove extra whitespaces\n",
        "    text = re.sub(r'\\s+', ' ', text).strip()\n",
        "    # Remove stopwords\n",
        "    tokenized_text = nltk.word_tokenize(text)\n",
        "    cleaned_text = [word for word in tokenized_text if word.lower() not in stop_words]\n",
        "    return \" \".join(cleaned_text)\n",
        "\n"
      ],
      "metadata": {
        "id": "J5qGS1fvjjFx"
      },
      "execution_count": 40,
      "outputs": []
    },
    {
      "cell_type": "code",
      "source": [
        "# Load Training Data from CSV\n",
        "train_df = pd.read_csv('train.csv')\n",
        "\n",
        "# Extract texts and labels\n",
        "texts = train_df['tweet'].astype(str).apply(clean_text).tolist()\n",
        "labels = train_df['class'].astype(int).tolist()\n",
        "\n",
        "# Convert labels to categorical (one-hot encoding for multi-class classification with 3 classes)\n",
        "labels = to_categorical(labels, num_classes=3)\n"
      ],
      "metadata": {
        "id": "cYiO0VTFjmuE"
      },
      "execution_count": 41,
      "outputs": []
    },
    {
      "cell_type": "code",
      "source": [
        "# Load Testing Data from `test.txt`\n",
        "with open('test.txt', 'r', encoding='utf-8') as f:\n",
        "    test_texts = f.readlines()\n",
        "\n",
        "# Clean the testing data\n",
        "test_texts = [clean_text(text) for text in test_texts]\n"
      ],
      "metadata": {
        "id": "Ijoy-a5Qjpar"
      },
      "execution_count": 42,
      "outputs": []
    },
    {
      "cell_type": "code",
      "source": [
        "# Initialize Tokenizer\n",
        "tokenizer = Tokenizer()\n",
        "tokenizer.fit_on_texts(texts)  # Fit only on training data\n",
        "\n",
        "# Convert texts to sequences\n",
        "x_train = tokenizer.texts_to_sequences(texts)\n",
        "x_test = tokenizer.texts_to_sequences(test_texts)\n",
        "\n",
        "# Define maximum sequence length\n",
        "max_length = 100\n",
        "\n",
        "# Pad sequences to ensure uniform input size\n",
        "x_train = pad_sequences(x_train, padding='post', maxlen=max_length)\n",
        "x_test = pad_sequences(x_test, padding='post', maxlen=max_length)\n",
        "\n",
        "# Vocabulary size\n",
        "vocab_size = len(tokenizer.word_index) + 1\n",
        "\n",
        "# Save the tokenizer\n",
        "with open('tokenizer.pickle', 'wb') as handle:\n",
        "    pickle.dump(tokenizer, handle, protocol=pickle.HIGHEST_PROTOCOL)\n",
        "\n",
        "print(\"Tokenizer saved as tokenizer.pickle\")\n"
      ],
      "metadata": {
        "colab": {
          "base_uri": "https://localhost:8080/"
        },
        "id": "9bW-FzzBjtAo",
        "outputId": "47f82160-faa2-4d04-aa12-decd32debbd8"
      },
      "execution_count": 43,
      "outputs": [
        {
          "output_type": "stream",
          "name": "stdout",
          "text": [
            "Tokenizer saved as tokenizer.pickle\n"
          ]
        }
      ]
    },
    {
      "cell_type": "code",
      "source": [
        "# Define the CNN Model\n",
        "cnn_model = Sequential()\n",
        "cnn_model.add(Embedding(input_dim=vocab_size, output_dim=100, input_length=max_length))\n",
        "cnn_model.add(Conv1D(filters=64, kernel_size=5, activation='relu'))\n",
        "cnn_model.add(BatchNormalization())\n",
        "cnn_model.add(MaxPooling1D(pool_size=2))\n",
        "cnn_model.add(GlobalMaxPooling1D())\n",
        "cnn_model.add(Dense(10, activation='relu'))\n",
        "cnn_model.add(Dropout(0.5))\n",
        "cnn_model.add(Dense(3, activation='softmax'))  # Output layer for 3 classes\n",
        "\n",
        "# Compile the model\n",
        "cnn_model.compile(loss='categorical_crossentropy', optimizer='adam', metrics=['accuracy'])\n"
      ],
      "metadata": {
        "id": "Q260Mr50jvtP"
      },
      "execution_count": 55,
      "outputs": []
    },
    {
      "cell_type": "code",
      "source": [
        "# Train the model on the full training data\n",
        "cnn_history = cnn_model.fit(x_train, labels, epochs=10, batch_size=32, verbose=1)\n",
        "cnn_model.summary()"
      ],
      "metadata": {
        "colab": {
          "base_uri": "https://localhost:8080/",
          "height": 798
        },
        "id": "SbTI9g8Njzvk",
        "outputId": "0918fd5c-9279-474c-a5ab-774cc4e59a9c"
      },
      "execution_count": 56,
      "outputs": [
        {
          "output_type": "stream",
          "name": "stdout",
          "text": [
            "Epoch 1/10\n",
            "\u001b[1m775/775\u001b[0m \u001b[32m━━━━━━━━━━━━━━━━━━━━\u001b[0m\u001b[37m\u001b[0m \u001b[1m42s\u001b[0m 52ms/step - accuracy: 0.7820 - loss: 0.5793\n",
            "Epoch 2/10\n",
            "\u001b[1m775/775\u001b[0m \u001b[32m━━━━━━━━━━━━━━━━━━━━\u001b[0m\u001b[37m\u001b[0m \u001b[1m36s\u001b[0m 46ms/step - accuracy: 0.8724 - loss: 0.3201\n",
            "Epoch 3/10\n",
            "\u001b[1m775/775\u001b[0m \u001b[32m━━━━━━━━━━━━━━━━━━━━\u001b[0m\u001b[37m\u001b[0m \u001b[1m45s\u001b[0m 52ms/step - accuracy: 0.9028 - loss: 0.2461\n",
            "Epoch 4/10\n",
            "\u001b[1m775/775\u001b[0m \u001b[32m━━━━━━━━━━━━━━━━━━━━\u001b[0m\u001b[37m\u001b[0m \u001b[1m37s\u001b[0m 47ms/step - accuracy: 0.9116 - loss: 0.2030\n",
            "Epoch 5/10\n",
            "\u001b[1m775/775\u001b[0m \u001b[32m━━━━━━━━━━━━━━━━━━━━\u001b[0m\u001b[37m\u001b[0m \u001b[1m41s\u001b[0m 47ms/step - accuracy: 0.9191 - loss: 0.1748\n",
            "Epoch 6/10\n",
            "\u001b[1m775/775\u001b[0m \u001b[32m━━━━━━━━━━━━━━━━━━━━\u001b[0m\u001b[37m\u001b[0m \u001b[1m40s\u001b[0m 52ms/step - accuracy: 0.9207 - loss: 0.1670\n",
            "Epoch 7/10\n",
            "\u001b[1m775/775\u001b[0m \u001b[32m━━━━━━━━━━━━━━━━━━━━\u001b[0m\u001b[37m\u001b[0m \u001b[1m38s\u001b[0m 48ms/step - accuracy: 0.9255 - loss: 0.1551\n",
            "Epoch 8/10\n",
            "\u001b[1m775/775\u001b[0m \u001b[32m━━━━━━━━━━━━━━━━━━━━\u001b[0m\u001b[37m\u001b[0m \u001b[1m42s\u001b[0m 49ms/step - accuracy: 0.9338 - loss: 0.1468\n",
            "Epoch 9/10\n",
            "\u001b[1m775/775\u001b[0m \u001b[32m━━━━━━━━━━━━━━━━━━━━\u001b[0m\u001b[37m\u001b[0m \u001b[1m40s\u001b[0m 48ms/step - accuracy: 0.9325 - loss: 0.1502\n",
            "Epoch 10/10\n",
            "\u001b[1m775/775\u001b[0m \u001b[32m━━━━━━━━━━━━━━━━━━━━\u001b[0m\u001b[37m\u001b[0m \u001b[1m41s\u001b[0m 47ms/step - accuracy: 0.9363 - loss: 0.1377\n"
          ]
        },
        {
          "output_type": "display_data",
          "data": {
            "text/plain": [
              "\u001b[1mModel: \"sequential_4\"\u001b[0m\n"
            ],
            "text/html": [
              "<pre style=\"white-space:pre;overflow-x:auto;line-height:normal;font-family:Menlo,'DejaVu Sans Mono',consolas,'Courier New',monospace\"><span style=\"font-weight: bold\">Model: \"sequential_4\"</span>\n",
              "</pre>\n"
            ]
          },
          "metadata": {}
        },
        {
          "output_type": "display_data",
          "data": {
            "text/plain": [
              "┏━━━━━━━━━━━━━━━━━━━━━━━━━━━━━━━━━━━━━━┳━━━━━━━━━━━━━━━━━━━━━━━━━━━━━┳━━━━━━━━━━━━━━━━━┓\n",
              "┃\u001b[1m \u001b[0m\u001b[1mLayer (type)                        \u001b[0m\u001b[1m \u001b[0m┃\u001b[1m \u001b[0m\u001b[1mOutput Shape               \u001b[0m\u001b[1m \u001b[0m┃\u001b[1m \u001b[0m\u001b[1m        Param #\u001b[0m\u001b[1m \u001b[0m┃\n",
              "┡━━━━━━━━━━━━━━━━━━━━━━━━━━━━━━━━━━━━━━╇━━━━━━━━━━━━━━━━━━━━━━━━━━━━━╇━━━━━━━━━━━━━━━━━┩\n",
              "│ embedding_4 (\u001b[38;5;33mEmbedding\u001b[0m)              │ (\u001b[38;5;45mNone\u001b[0m, \u001b[38;5;34m100\u001b[0m, \u001b[38;5;34m100\u001b[0m)            │       \u001b[38;5;34m3,437,500\u001b[0m │\n",
              "├──────────────────────────────────────┼─────────────────────────────┼─────────────────┤\n",
              "│ conv1d_4 (\u001b[38;5;33mConv1D\u001b[0m)                    │ (\u001b[38;5;45mNone\u001b[0m, \u001b[38;5;34m96\u001b[0m, \u001b[38;5;34m64\u001b[0m)              │          \u001b[38;5;34m32,064\u001b[0m │\n",
              "├──────────────────────────────────────┼─────────────────────────────┼─────────────────┤\n",
              "│ batch_normalization_4                │ (\u001b[38;5;45mNone\u001b[0m, \u001b[38;5;34m96\u001b[0m, \u001b[38;5;34m64\u001b[0m)              │             \u001b[38;5;34m256\u001b[0m │\n",
              "│ (\u001b[38;5;33mBatchNormalization\u001b[0m)                 │                             │                 │\n",
              "├──────────────────────────────────────┼─────────────────────────────┼─────────────────┤\n",
              "│ max_pooling1d_4 (\u001b[38;5;33mMaxPooling1D\u001b[0m)       │ (\u001b[38;5;45mNone\u001b[0m, \u001b[38;5;34m48\u001b[0m, \u001b[38;5;34m64\u001b[0m)              │               \u001b[38;5;34m0\u001b[0m │\n",
              "├──────────────────────────────────────┼─────────────────────────────┼─────────────────┤\n",
              "│ global_max_pooling1d_4               │ (\u001b[38;5;45mNone\u001b[0m, \u001b[38;5;34m64\u001b[0m)                  │               \u001b[38;5;34m0\u001b[0m │\n",
              "│ (\u001b[38;5;33mGlobalMaxPooling1D\u001b[0m)                 │                             │                 │\n",
              "├──────────────────────────────────────┼─────────────────────────────┼─────────────────┤\n",
              "│ dense_6 (\u001b[38;5;33mDense\u001b[0m)                      │ (\u001b[38;5;45mNone\u001b[0m, \u001b[38;5;34m10\u001b[0m)                  │             \u001b[38;5;34m650\u001b[0m │\n",
              "├──────────────────────────────────────┼─────────────────────────────┼─────────────────┤\n",
              "│ dropout_4 (\u001b[38;5;33mDropout\u001b[0m)                  │ (\u001b[38;5;45mNone\u001b[0m, \u001b[38;5;34m10\u001b[0m)                  │               \u001b[38;5;34m0\u001b[0m │\n",
              "├──────────────────────────────────────┼─────────────────────────────┼─────────────────┤\n",
              "│ dense_7 (\u001b[38;5;33mDense\u001b[0m)                      │ (\u001b[38;5;45mNone\u001b[0m, \u001b[38;5;34m3\u001b[0m)                   │              \u001b[38;5;34m33\u001b[0m │\n",
              "└──────────────────────────────────────┴─────────────────────────────┴─────────────────┘\n"
            ],
            "text/html": [
              "<pre style=\"white-space:pre;overflow-x:auto;line-height:normal;font-family:Menlo,'DejaVu Sans Mono',consolas,'Courier New',monospace\">┏━━━━━━━━━━━━━━━━━━━━━━━━━━━━━━━━━━━━━━┳━━━━━━━━━━━━━━━━━━━━━━━━━━━━━┳━━━━━━━━━━━━━━━━━┓\n",
              "┃<span style=\"font-weight: bold\"> Layer (type)                         </span>┃<span style=\"font-weight: bold\"> Output Shape                </span>┃<span style=\"font-weight: bold\">         Param # </span>┃\n",
              "┡━━━━━━━━━━━━━━━━━━━━━━━━━━━━━━━━━━━━━━╇━━━━━━━━━━━━━━━━━━━━━━━━━━━━━╇━━━━━━━━━━━━━━━━━┩\n",
              "│ embedding_4 (<span style=\"color: #0087ff; text-decoration-color: #0087ff\">Embedding</span>)              │ (<span style=\"color: #00d7ff; text-decoration-color: #00d7ff\">None</span>, <span style=\"color: #00af00; text-decoration-color: #00af00\">100</span>, <span style=\"color: #00af00; text-decoration-color: #00af00\">100</span>)            │       <span style=\"color: #00af00; text-decoration-color: #00af00\">3,437,500</span> │\n",
              "├──────────────────────────────────────┼─────────────────────────────┼─────────────────┤\n",
              "│ conv1d_4 (<span style=\"color: #0087ff; text-decoration-color: #0087ff\">Conv1D</span>)                    │ (<span style=\"color: #00d7ff; text-decoration-color: #00d7ff\">None</span>, <span style=\"color: #00af00; text-decoration-color: #00af00\">96</span>, <span style=\"color: #00af00; text-decoration-color: #00af00\">64</span>)              │          <span style=\"color: #00af00; text-decoration-color: #00af00\">32,064</span> │\n",
              "├──────────────────────────────────────┼─────────────────────────────┼─────────────────┤\n",
              "│ batch_normalization_4                │ (<span style=\"color: #00d7ff; text-decoration-color: #00d7ff\">None</span>, <span style=\"color: #00af00; text-decoration-color: #00af00\">96</span>, <span style=\"color: #00af00; text-decoration-color: #00af00\">64</span>)              │             <span style=\"color: #00af00; text-decoration-color: #00af00\">256</span> │\n",
              "│ (<span style=\"color: #0087ff; text-decoration-color: #0087ff\">BatchNormalization</span>)                 │                             │                 │\n",
              "├──────────────────────────────────────┼─────────────────────────────┼─────────────────┤\n",
              "│ max_pooling1d_4 (<span style=\"color: #0087ff; text-decoration-color: #0087ff\">MaxPooling1D</span>)       │ (<span style=\"color: #00d7ff; text-decoration-color: #00d7ff\">None</span>, <span style=\"color: #00af00; text-decoration-color: #00af00\">48</span>, <span style=\"color: #00af00; text-decoration-color: #00af00\">64</span>)              │               <span style=\"color: #00af00; text-decoration-color: #00af00\">0</span> │\n",
              "├──────────────────────────────────────┼─────────────────────────────┼─────────────────┤\n",
              "│ global_max_pooling1d_4               │ (<span style=\"color: #00d7ff; text-decoration-color: #00d7ff\">None</span>, <span style=\"color: #00af00; text-decoration-color: #00af00\">64</span>)                  │               <span style=\"color: #00af00; text-decoration-color: #00af00\">0</span> │\n",
              "│ (<span style=\"color: #0087ff; text-decoration-color: #0087ff\">GlobalMaxPooling1D</span>)                 │                             │                 │\n",
              "├──────────────────────────────────────┼─────────────────────────────┼─────────────────┤\n",
              "│ dense_6 (<span style=\"color: #0087ff; text-decoration-color: #0087ff\">Dense</span>)                      │ (<span style=\"color: #00d7ff; text-decoration-color: #00d7ff\">None</span>, <span style=\"color: #00af00; text-decoration-color: #00af00\">10</span>)                  │             <span style=\"color: #00af00; text-decoration-color: #00af00\">650</span> │\n",
              "├──────────────────────────────────────┼─────────────────────────────┼─────────────────┤\n",
              "│ dropout_4 (<span style=\"color: #0087ff; text-decoration-color: #0087ff\">Dropout</span>)                  │ (<span style=\"color: #00d7ff; text-decoration-color: #00d7ff\">None</span>, <span style=\"color: #00af00; text-decoration-color: #00af00\">10</span>)                  │               <span style=\"color: #00af00; text-decoration-color: #00af00\">0</span> │\n",
              "├──────────────────────────────────────┼─────────────────────────────┼─────────────────┤\n",
              "│ dense_7 (<span style=\"color: #0087ff; text-decoration-color: #0087ff\">Dense</span>)                      │ (<span style=\"color: #00d7ff; text-decoration-color: #00d7ff\">None</span>, <span style=\"color: #00af00; text-decoration-color: #00af00\">3</span>)                   │              <span style=\"color: #00af00; text-decoration-color: #00af00\">33</span> │\n",
              "└──────────────────────────────────────┴─────────────────────────────┴─────────────────┘\n",
              "</pre>\n"
            ]
          },
          "metadata": {}
        },
        {
          "output_type": "display_data",
          "data": {
            "text/plain": [
              "\u001b[1m Total params: \u001b[0m\u001b[38;5;34m10,411,255\u001b[0m (39.72 MB)\n"
            ],
            "text/html": [
              "<pre style=\"white-space:pre;overflow-x:auto;line-height:normal;font-family:Menlo,'DejaVu Sans Mono',consolas,'Courier New',monospace\"><span style=\"font-weight: bold\"> Total params: </span><span style=\"color: #00af00; text-decoration-color: #00af00\">10,411,255</span> (39.72 MB)\n",
              "</pre>\n"
            ]
          },
          "metadata": {}
        },
        {
          "output_type": "display_data",
          "data": {
            "text/plain": [
              "\u001b[1m Trainable params: \u001b[0m\u001b[38;5;34m3,470,375\u001b[0m (13.24 MB)\n"
            ],
            "text/html": [
              "<pre style=\"white-space:pre;overflow-x:auto;line-height:normal;font-family:Menlo,'DejaVu Sans Mono',consolas,'Courier New',monospace\"><span style=\"font-weight: bold\"> Trainable params: </span><span style=\"color: #00af00; text-decoration-color: #00af00\">3,470,375</span> (13.24 MB)\n",
              "</pre>\n"
            ]
          },
          "metadata": {}
        },
        {
          "output_type": "display_data",
          "data": {
            "text/plain": [
              "\u001b[1m Non-trainable params: \u001b[0m\u001b[38;5;34m128\u001b[0m (512.00 B)\n"
            ],
            "text/html": [
              "<pre style=\"white-space:pre;overflow-x:auto;line-height:normal;font-family:Menlo,'DejaVu Sans Mono',consolas,'Courier New',monospace\"><span style=\"font-weight: bold\"> Non-trainable params: </span><span style=\"color: #00af00; text-decoration-color: #00af00\">128</span> (512.00 B)\n",
              "</pre>\n"
            ]
          },
          "metadata": {}
        },
        {
          "output_type": "display_data",
          "data": {
            "text/plain": [
              "\u001b[1m Optimizer params: \u001b[0m\u001b[38;5;34m6,940,752\u001b[0m (26.48 MB)\n"
            ],
            "text/html": [
              "<pre style=\"white-space:pre;overflow-x:auto;line-height:normal;font-family:Menlo,'DejaVu Sans Mono',consolas,'Courier New',monospace\"><span style=\"font-weight: bold\"> Optimizer params: </span><span style=\"color: #00af00; text-decoration-color: #00af00\">6,940,752</span> (26.48 MB)\n",
              "</pre>\n"
            ]
          },
          "metadata": {}
        }
      ]
    },
    {
      "cell_type": "code",
      "source": [
        "\n",
        "# Save the trained model\n",
        "cnn_model.save(\"trained_cnn_model.h5\")\n",
        "print(\"Model saved as trained_cnn_model.h5\")"
      ],
      "metadata": {
        "colab": {
          "base_uri": "https://localhost:8080/"
        },
        "id": "LQ1uutw-SrN6",
        "outputId": "7b71d0da-d4f3-42d7-ea06-a4f6717e9a22"
      },
      "execution_count": 45,
      "outputs": [
        {
          "output_type": "stream",
          "name": "stderr",
          "text": [
            "WARNING:absl:You are saving your model as an HDF5 file via `model.save()` or `keras.saving.save_model(model)`. This file format is considered legacy. We recommend using instead the native Keras format, e.g. `model.save('my_model.keras')` or `keras.saving.save_model(model, 'my_model.keras')`. \n"
          ]
        },
        {
          "output_type": "stream",
          "name": "stdout",
          "text": [
            "Model saved as trained_cnn_model.h5\n"
          ]
        }
      ]
    },
    {
      "cell_type": "code",
      "source": [],
      "metadata": {
        "id": "kAnMK6sWTQp2"
      },
      "execution_count": null,
      "outputs": []
    },
    {
      "cell_type": "code",
      "source": [
        "# import numpy as np\n",
        "# import pandas as pd\n",
        "# import nltk\n",
        "# import re\n",
        "# import pickle\n",
        "# from sklearn.utils import class_weight\n",
        "# from tensorflow.keras.models import Sequential, load_model\n",
        "# from tensorflow.keras.layers import Embedding, Conv1D, MaxPooling1D, GlobalMaxPooling1D, Dense, Dropout, BatchNormalization\n",
        "# from tensorflow.keras.preprocessing.text import Tokenizer\n",
        "# from tensorflow.keras.preprocessing.sequence import pad_sequences\n",
        "# from tensorflow.keras.utils import to_categorical\n",
        "# import matplotlib.pyplot as plt\n",
        "\n",
        "# # Download NLTK resources\n",
        "# nltk.download('punkt')\n",
        "# nltk.download('stopwords')\n",
        "# stop_words = set(nltk.corpus.stopwords.words('english'))\n",
        "\n",
        "# # Function to clean text\n",
        "# def clean_text(raw_text):\n",
        "#     # Remove user handles (e.g., @username)\n",
        "#     text = re.sub(r\"@[\\w]*\", \"\", raw_text)\n",
        "#     # Remove URLs\n",
        "#     text = re.sub(r\"http\\S+|www\\S+|https\\S+\", '', raw_text, flags=re.MULTILINE)\n",
        "#     # Remove special characters, punctuation, and digits\n",
        "#     text = re.sub(r'\\W', ' ', text)\n",
        "#     text = re.sub(r'\\d', '', text)\n",
        "#     # Remove extra whitespaces\n",
        "#     text = re.sub(r'\\s+', ' ', text).strip()\n",
        "#     # Tokenize and remove stopwords\n",
        "#     tokenized_text = nltk.word_tokenize(text)\n",
        "#     cleaned_text = [word for word in tokenized_text if word.lower() not in stop_words]\n",
        "#     return \" \".join(cleaned_text)\n",
        "\n",
        "# # Load and preprocess the training data\n",
        "# train_df = pd.read_csv('train.csv')\n",
        "# texts = train_df['tweet'].astype(str).apply(clean_text).tolist()\n",
        "# labels = train_df['class'].astype(int).tolist()\n",
        "\n",
        "# # Convert labels to one-hot encoding\n",
        "# labels = to_categorical(labels, num_classes=3)\n",
        "\n",
        "# # Initialize the tokenizer and fit on training data\n",
        "# tokenizer = Tokenizer()\n",
        "# tokenizer.fit_on_texts(texts)\n",
        "\n",
        "# # Convert texts to sequences\n",
        "# x_train = tokenizer.texts_to_sequences(texts)\n",
        "\n",
        "# # Pad sequences to a fixed length\n",
        "# max_length = 100\n",
        "# x_train = pad_sequences(x_train, padding='post', maxlen=max_length)\n",
        "\n",
        "# # Vocabulary size\n",
        "# vocab_size = len(tokenizer.word_index) + 1\n",
        "\n",
        "# # Save the tokenizer for later use\n",
        "# with open('tokenizer.pickle', 'wb') as handle:\n",
        "#     pickle.dump(tokenizer, handle, protocol=pickle.HIGHEST_PROTOCOL)\n",
        "\n",
        "# # Define the CNN model\n",
        "# cnn_model = Sequential([\n",
        "#     Embedding(input_dim=vocab_size, output_dim=100, input_length=max_length),\n",
        "#     Conv1D(filters=64, kernel_size=5, activation='relu'),\n",
        "#     BatchNormalization(),\n",
        "#     MaxPooling1D(pool_size=2),\n",
        "#     GlobalMaxPooling1D(),\n",
        "#     Dense(10, activation='relu'),\n",
        "#     Dropout(0.5),\n",
        "#     Dense(3, activation='softmax')  # Output layer for 3 classes\n",
        "# ])\n",
        "\n",
        "# # Compile the model\n",
        "# cnn_model.compile(loss='categorical_crossentropy', optimizer='adam', metrics=['accuracy'])\n",
        "\n",
        "# # Calculate class weights to handle class imbalance\n",
        "# class_weights = class_weight.compute_class_weight(\n",
        "#     class_weight='balanced',\n",
        "#     classes=np.unique(train_df['class']),\n",
        "#     y=train_df['class']\n",
        "# )\n",
        "# class_weights = dict(enumerate(class_weights))\n",
        "\n",
        "# # Train the model\n",
        "# cnn_history = cnn_model.fit(x_train, labels, epochs=10, batch_size=32, class_weight=class_weights, verbose=1)\n",
        "\n",
        "# # Save the trained model\n",
        "# cnn_model.save(\"trained_cnn_model.h5\")\n",
        "# print(\"Model saved as trained_cnn_model.h5\")\n",
        "\n",
        "# # Load the testing data\n",
        "# with open('test.txt', 'r') as file:\n",
        "#     test_texts = file.readlines()\n",
        "\n",
        "# # Preprocess testing data\n",
        "# test_texts = [clean_text(text) for text in test_texts]\n",
        "\n",
        "# # Convert test texts to sequences\n",
        "# x_test = tokenizer.texts_to_sequences(test_texts)\n",
        "# x_test = pad_sequences(x_test, padding='post', maxlen=max_length)\n",
        "\n",
        "# # Load the trained model and make predictions\n",
        "# cnn_model = load_model(\"trained_cnn_model.h5\")\n",
        "# y_pred_probs = cnn_model.predict(x_test)\n",
        "# y_pred = np.argmax(y_pred_probs, axis=1)\n",
        "\n",
        "# # Display predictions with updated labels\n",
        "# label_mapping = {0: \"Hate Speech\", 1: \"Offensive\", 2: \"Neither\"}\n",
        "# print(\"\\nPredicted Labels for Test Data:\")\n",
        "# for i, (text, prediction) in enumerate(zip(test_texts, y_pred)):\n",
        "#     print(f\"Test Sample {i + 1}:\")\n",
        "#     print(f\"Tweet: {text}\")\n",
        "#     print(f\"Predicted Class: {prediction} ({label_mapping[prediction]})\")\n",
        "\n",
        "# # Plot training accuracy and loss\n",
        "# plt.figure(figsize=(12, 4))\n",
        "# plt.subplot(1, 2, 1)\n",
        "# plt.plot(cnn_history.history['accuracy'])\n",
        "# plt.title('Training Accuracy')\n",
        "# plt.ylabel('Accuracy')\n",
        "# plt.xlabel('Epoch')\n",
        "# plt.legend(['Train'], loc='upper left')\n",
        "\n",
        "# plt.subplot(1, 2, 2)\n",
        "# plt.plot(cnn_history.history['loss'])\n",
        "# plt.title('Training Loss')\n",
        "# plt.ylabel('Loss')\n",
        "# plt.xlabel('Epoch')\n",
        "# plt.legend(['Train'], loc='upper left')\n",
        "\n",
        "# plt.tight_layout()\n",
        "# plt.show()\n",
        "\n"
      ],
      "metadata": {
        "colab": {
          "base_uri": "https://localhost:8080/",
          "height": 930
        },
        "id": "ROx9vrkbRXUB",
        "outputId": "49a51b82-ec97-4f4d-9c36-09bcb146ef4b"
      },
      "execution_count": 65,
      "outputs": [
        {
          "output_type": "stream",
          "name": "stderr",
          "text": [
            "[nltk_data] Downloading package punkt to /root/nltk_data...\n",
            "[nltk_data]   Package punkt is already up-to-date!\n",
            "[nltk_data] Downloading package stopwords to /root/nltk_data...\n",
            "[nltk_data]   Package stopwords is already up-to-date!\n"
          ]
        },
        {
          "output_type": "stream",
          "name": "stdout",
          "text": [
            "Epoch 1/10\n"
          ]
        },
        {
          "output_type": "stream",
          "name": "stderr",
          "text": [
            "/usr/local/lib/python3.10/dist-packages/keras/src/layers/core/embedding.py:90: UserWarning: Argument `input_length` is deprecated. Just remove it.\n",
            "  warnings.warn(\n"
          ]
        },
        {
          "output_type": "stream",
          "name": "stdout",
          "text": [
            "\u001b[1m775/775\u001b[0m \u001b[32m━━━━━━━━━━━━━━━━━━━━\u001b[0m\u001b[37m\u001b[0m \u001b[1m45s\u001b[0m 56ms/step - accuracy: 0.3693 - loss: 1.0248\n",
            "Epoch 2/10\n",
            "\u001b[1m775/775\u001b[0m \u001b[32m━━━━━━━━━━━━━━━━━━━━\u001b[0m\u001b[37m\u001b[0m \u001b[1m75s\u001b[0m 47ms/step - accuracy: 0.7708 - loss: 0.6038\n",
            "Epoch 3/10\n",
            "\u001b[1m775/775\u001b[0m \u001b[32m━━━━━━━━━━━━━━━━━━━━\u001b[0m\u001b[37m\u001b[0m \u001b[1m37s\u001b[0m 48ms/step - accuracy: 0.8816 - loss: 0.4645\n",
            "Epoch 4/10\n",
            "\u001b[1m775/775\u001b[0m \u001b[32m━━━━━━━━━━━━━━━━━━━━\u001b[0m\u001b[37m\u001b[0m \u001b[1m41s\u001b[0m 49ms/step - accuracy: 0.9048 - loss: 0.3804\n",
            "Epoch 5/10\n",
            "\u001b[1m775/775\u001b[0m \u001b[32m━━━━━━━━━━━━━━━━━━━━\u001b[0m\u001b[37m\u001b[0m \u001b[1m40s\u001b[0m 48ms/step - accuracy: 0.9358 - loss: 0.3079\n",
            "Epoch 6/10\n",
            "\u001b[1m775/775\u001b[0m \u001b[32m━━━━━━━━━━━━━━━━━━━━\u001b[0m\u001b[37m\u001b[0m \u001b[1m39s\u001b[0m 45ms/step - accuracy: 0.9466 - loss: 0.2803\n",
            "Epoch 7/10\n",
            "\u001b[1m775/775\u001b[0m \u001b[32m━━━━━━━━━━━━━━━━━━━━\u001b[0m\u001b[37m\u001b[0m \u001b[1m44s\u001b[0m 49ms/step - accuracy: 0.9507 - loss: 0.2548\n",
            "Epoch 8/10\n",
            "\u001b[1m775/775\u001b[0m \u001b[32m━━━━━━━━━━━━━━━━━━━━\u001b[0m\u001b[37m\u001b[0m \u001b[1m39s\u001b[0m 47ms/step - accuracy: 0.9293 - loss: 0.2404\n",
            "Epoch 9/10\n",
            "\u001b[1m775/775\u001b[0m \u001b[32m━━━━━━━━━━━━━━━━━━━━\u001b[0m\u001b[37m\u001b[0m \u001b[1m36s\u001b[0m 47ms/step - accuracy: 0.8330 - loss: 0.2198\n",
            "Epoch 10/10\n",
            "\u001b[1m775/775\u001b[0m \u001b[32m━━━━━━━━━━━━━━━━━━━━\u001b[0m\u001b[37m\u001b[0m \u001b[1m41s\u001b[0m 46ms/step - accuracy: 0.8634 - loss: 0.2043\n"
          ]
        },
        {
          "output_type": "stream",
          "name": "stderr",
          "text": [
            "WARNING:absl:You are saving your model as an HDF5 file via `model.save()` or `keras.saving.save_model(model)`. This file format is considered legacy. We recommend using instead the native Keras format, e.g. `model.save('my_model.keras')` or `keras.saving.save_model(model, 'my_model.keras')`. \n",
            "WARNING:absl:Compiled the loaded model, but the compiled metrics have yet to be built. `model.compile_metrics` will be empty until you train or evaluate the model.\n"
          ]
        },
        {
          "output_type": "stream",
          "name": "stdout",
          "text": [
            "Model saved as trained_cnn_model.h5\n",
            "\u001b[1m1/1\u001b[0m \u001b[32m━━━━━━━━━━━━━━━━━━━━\u001b[0m\u001b[37m\u001b[0m \u001b[1m0s\u001b[0m 96ms/step\n",
            "\n",
            "Predicted Labels for Test Data:\n",
            "Test Sample 1:\n",
            "Tweet: CB_Baby white_thunduh alsarabsss hes beaner smh tell hes mexicanyou bad boy\n",
            "Predicted Class: 0 (Hate Speech)\n"
          ]
        },
        {
          "output_type": "display_data",
          "data": {
            "text/plain": [
              "<Figure size 1200x400 with 2 Axes>"
            ],
            "image/png": "[encoded data removed]"
          },
          "metadata": {}
        }
      ]
    },
    {
      "cell_type": "code",
      "source": [
        "\n",
        "# Load the testing data\n",
        "with open('test.txt', 'r') as file:\n",
        "    test_texts = file.readlines()\n",
        "\n",
        "# Preprocess testing data\n",
        "test_texts = [clean_text(text) for text in test_texts]\n",
        "\n",
        "# Convert test texts to sequences\n",
        "x_test = tokenizer.texts_to_sequences(test_texts)\n",
        "x_test = pad_sequences(x_test, padding='post', maxlen=max_length)\n",
        "\n",
        "# Load the trained model and make predictions\n",
        "cnn_model = load_model(\"trained_cnn_model.h5\")\n",
        "y_pred_probs = cnn_model.predict(x_test)\n",
        "y_pred = np.argmax(y_pred_probs, axis=1)\n",
        "\n",
        "# Display predictions\n",
        "print(\"\\nPredicted Labels for Test Data:\")\n",
        "for i, (text, prediction) in enumerate(zip(test_texts, y_pred)):\n",
        "    print(f\"Test Sample {i + 1}:\")\n",
        "    print(f\"Tweet: {text}\")\n",
        "    print(f\"Predicted Class: {prediction} (0 = Hate Speech, 1 = Offensive, 2 = Neither)\")"
      ],
      "metadata": {
        "colab": {
          "base_uri": "https://localhost:8080/"
        },
        "id": "hR4SjJkhTiXU",
        "outputId": "90732dc5-77f5-449e-c289-a4d9db7e4519"
      },
      "execution_count": 72,
      "outputs": [
        {
          "output_type": "stream",
          "name": "stderr",
          "text": [
            "WARNING:absl:Compiled the loaded model, but the compiled metrics have yet to be built. `model.compile_metrics` will be empty until you train or evaluate the model.\n"
          ]
        },
        {
          "output_type": "stream",
          "name": "stdout",
          "text": [
            "\u001b[1m1/1\u001b[0m \u001b[32m━━━━━━━━━━━━━━━━━━━━\u001b[0m\u001b[37m\u001b[0m \u001b[1m0s\u001b[0m 90ms/step\n",
            "\n",
            "Predicted Labels for Test Data:\n",
            "Test Sample 1:\n",
            "Tweet: hello fucking idiot dirty nigga\n",
            "Predicted Class: 1 (0 = Hate Speech, 1 = Offensive, 2 = Neither)\n"
          ]
        }
      ]
    },
    {
      "cell_type": "code",
      "source": [
        "# Predicting on `test.txt` data\n",
        "y_pred_probs = cnn_model.predict(x_test)\n",
        "y_pred = np.argmax(y_pred_probs, axis=1)\n",
        "\n",
        "# Display Predictions\n",
        "print(\"\\nPredicted Labels for `test.txt`:\")\n",
        "for i, prediction in enumerate(y_pred):\n",
        "    print(f\"Test sample {i + 1}: Predicted class {prediction}\")\n"
      ],
      "metadata": {
        "id": "fosiljstSwD7",
        "colab": {
          "base_uri": "https://localhost:8080/"
        },
        "outputId": "3afb5af4-4eda-4f3d-cd5c-38ff1796f88d"
      },
      "execution_count": 73,
      "outputs": [
        {
          "output_type": "stream",
          "name": "stdout",
          "text": [
            "\u001b[1m1/1\u001b[0m \u001b[32m━━━━━━━━━━━━━━━━━━━━\u001b[0m\u001b[37m\u001b[0m \u001b[1m0s\u001b[0m 20ms/step\n",
            "\n",
            "Predicted Labels for `test.txt`:\n",
            "Test sample 1: Predicted class 1\n"
          ]
        }
      ]
    },
    {
      "cell_type": "code",
      "source": [
        "# Load the trained model\n",
        "cnn_model = load_model(\"trained_cnn_model.h5\")\n",
        "print(\"Model loaded successfully.\")\n",
        "\n",
        "# Read testing data from text.txt\n",
        "with open('test.txt', 'r') as file:\n",
        "    test_lines = file.readlines()\n",
        "\n",
        "test_lines = [clean_text(line.strip()) for line in test_lines]\n",
        "\n",
        "# Tokenize and pad test data\n",
        "test_sequences = tokenizer.texts_to_sequences(test_lines)\n",
        "x_test_final = pad_sequences(test_sequences, padding='post', maxlen=max_length)\n",
        "\n",
        "# Predict using the model\n",
        "predictions = cnn_model.predict(x_test_final)\n",
        "predicted_classes = np.argmax(predictions, axis=1)\n",
        "\n",
        "# Display predictions\n",
        "for i, line in enumerate(test_lines):\n",
        "    print(f\"Tweet: {line}\")\n",
        "    print(f\"Predicted Class: {predicted_classes[i]} (0 = Offensive, 1 = Hate Speech, 2 = Neither)\")\n"
      ],
      "metadata": {
        "colab": {
          "base_uri": "https://localhost:8080/"
        },
        "id": "1vtDVkW5Twi7",
        "outputId": "52ffb640-1337-42f9-e6a0-21b4498cce80"
      },
      "execution_count": 77,
      "outputs": [
        {
          "output_type": "stream",
          "name": "stderr",
          "text": [
            "WARNING:absl:Compiled the loaded model, but the compiled metrics have yet to be built. `model.compile_metrics` will be empty until you train or evaluate the model.\n"
          ]
        },
        {
          "output_type": "stream",
          "name": "stdout",
          "text": [
            "Model loaded successfully.\n",
            "\u001b[1m1/1\u001b[0m \u001b[32m━━━━━━━━━━━━━━━━━━━━\u001b[0m\u001b[37m\u001b[0m \u001b[1m0s\u001b[0m 86ms/step\n",
            "Tweet: hello dirty nigga\n",
            "Predicted Class: 1 (0 = Offensive, 1 = Hate Speech, 2 = Neither)\n"
          ]
        }
      ]
    },
    {
      "cell_type": "code",
      "source": [
        "# Plotting Training Accuracy\n",
        "plt.figure(figsize=(12, 4))\n",
        "plt.subplot(1, 2, 1)\n",
        "plt.plot(cnn_history.history['accuracy'])\n",
        "plt.title('Training Accuracy')\n",
        "plt.ylabel('Accuracy')\n",
        "plt.xlabel('Epoch')\n",
        "plt.legend(['Train'], loc='upper left')\n",
        "\n",
        "# Plotting Training Loss\n",
        "plt.subplot(1, 2, 2)\n",
        "plt.plot(cnn_history.history['loss'])\n",
        "plt.title('Training Loss')\n",
        "plt.ylabel('Loss')\n",
        "plt.xlabel('Epoch')\n",
        "plt.legend(['Train'], loc='upper left')\n",
        "\n",
        "plt.tight_layout()\n",
        "plt.show()\n"
      ],
      "metadata": {
        "colab": {
          "base_uri": "https://localhost:8080/",
          "height": 272
        },
        "id": "uJmAw4ZqS0Wq",
        "outputId": "ac8ea7d7-58fd-449a-ac4e-f8e04e6edb5a"
      },
      "execution_count": 78,
      "outputs": [
        {
          "output_type": "display_data",
          "data": {
            "text/plain": [
              "<Figure size 1200x400 with 2 Axes>"
            ],
            "image/png": "[encoded data removed]"
          },
          "metadata": {}
        }
      ]
    },
    {
      "cell_type": "code",
      "source": [
        "import numpy as np\n",
        "import pandas as pd\n",
        "import nltk\n",
        "import re\n",
        "!pip install gTTS\n",
        "!pip install pydub\n",
        "from tensorflow.keras.preprocessing.text import Tokenizer\n",
        "from tensorflow.keras.preprocessing.sequence import pad_sequences\n",
        "from tensorflow.keras.models import load_model\n",
        "from gtts import gTTS\n",
        "!pip install gTTS\n",
        "!pip install pydub\n",
        "from pydub import AudioSegment\n",
        "from pydub.generators import Sine\n",
        "import os\n",
        "\n",
        "nltk.download('punkt')\n",
        "\n",
        "# Load the test data from the txt file\n",
        "with open('test.txt', 'r') as file:\n",
        "    test_sentences = file.readlines()\n",
        "\n",
        "# Load the pre-trained CNN model\n",
        "cnn_model = load_model(\"trained_cnn_model.h5\")\n",
        "\n",
        "# Initialize the tokenizer (make sure this matches your training tokenizer)\n",
        "tokenizer = Tokenizer()\n",
        "tokenizer.fit_on_texts(test_sentences)  # Assuming test set is representative; ideally, fit on the full dataset used in training\n",
        "\n",
        "# Clean test data (same preprocessing used during training)\n",
        "def clean_data(texts):\n",
        "    def remove_user_handles(text):\n",
        "        return re.sub(r\"@[\\w]+\", \"\", text)\n",
        "\n",
        "    def remove_urls(text):\n",
        "        return re.sub(r\"https?://\\S+|www\\.\\S+\", \"\", text)\n",
        "\n",
        "    def remove_punctuation(text):\n",
        "        return re.sub(r\"[^\\w\\s]\", \"\", text)\n",
        "\n",
        "    cleaned_texts = []\n",
        "    for text in texts:\n",
        "        text = remove_user_handles(text)\n",
        "        text = remove_urls(text)\n",
        "        text = remove_punctuation(text)\n",
        "        cleaned_texts.append(text)\n",
        "    return cleaned_texts\n",
        "\n",
        "# Preprocess the test data\n",
        "cleaned_test_sentences = clean_data(test_sentences)\n",
        "\n",
        "# Convert text to sequences\n",
        "x_test = tokenizer.texts_to_sequences(cleaned_test_sentences)\n",
        "x_test = pad_sequences(x_test, padding='post', maxlen=100)\n",
        "\n",
        "# Predict classes using the CNN model\n",
        "predictions = cnn_model.predict(x_test)\n",
        "predicted_classes = np.argmax(predictions, axis=1)\n",
        "\n",
        "# Minimum confidence threshold for detecting offensive words\n",
        "confidence_threshold = 0.7\n",
        "\n",
        "# Function to detect offensive words using the CNN model\n",
        "def detect_offensive_words(sentence):\n",
        "    words = nltk.word_tokenize(sentence.lower())\n",
        "    offensive_words = []\n",
        "\n",
        "    # Check each word individually to see if it's offensive\n",
        "    for word in words:\n",
        "        # Preprocess and pad the single word for prediction\n",
        "        sequence = tokenizer.texts_to_sequences([word])\n",
        "        padded_sequence = pad_sequences(sequence, padding='post', maxlen=100)\n",
        "\n",
        "        # Predict the class of the word\n",
        "        word_prediction = cnn_model.predict(padded_sequence)\n",
        "        word_prob = word_prediction[0][1]  # Probability of being offensive\n",
        "\n",
        "        # If the word is classified as offensive with high confidence\n",
        "        if word_prob > confidence_threshold:\n",
        "            offensive_words.append(word)\n",
        "\n",
        "    return offensive_words\n",
        "\n",
        "# Function to censor offensive words in a text\n",
        "def censor_text(text, offensive_words):\n",
        "    words = nltk.word_tokenize(text.lower())\n",
        "    censored_text = []\n",
        "\n",
        "    for word in words:\n",
        "        if word in offensive_words:\n",
        "            censored_text.append(\"beep\")\n",
        "        else:\n",
        "            censored_text.append(word)\n",
        "\n",
        "    return \" \".join(censored_text)\n",
        "\n",
        "# Function to generate a beep sound\n",
        "def generate_beep(duration=500):\n",
        "    beep = Sine(1000).to_audio_segment(duration=duration).apply_gain(-10)\n",
        "    return beep\n",
        "\n",
        "# Function to create audio with censored offensive words\n",
        "def create_audio_with_censor(text, filename=\"censored_output\"):\n",
        "    # Detect offensive words in the sentence using the CNN model\n",
        "    offensive_words = detect_offensive_words(text)\n",
        "\n",
        "    # Generate censored text\n",
        "    censored_text = censor_text(text, offensive_words)\n",
        "    print(\"Censored Text:\", censored_text)\n",
        "\n",
        "    # Split the censored text into words for processing\n",
        "    words = censored_text.split()\n",
        "    beep_sound = generate_beep(duration=500)\n",
        "    output_audio = AudioSegment.empty()\n",
        "\n",
        "    for word in words:\n",
        "        if word == \"beep\":\n",
        "            output_audio += beep_sound\n",
        "        else:\n",
        "            word_audio = gTTS(text=word, lang='en')\n",
        "            temp_filename = f\"{word}_temp.mp3\"\n",
        "            word_audio.save(temp_filename)\n",
        "            word_segment = AudioSegment.from_file(temp_filename, format=\"mp3\")\n",
        "            output_audio += word_segment\n",
        "            os.remove(temp_filename)\n",
        "\n",
        "    # Export the final audio\n",
        "    output_audio.export(f\"{filename}.mp3\", format=\"mp3\")\n",
        "    print(f\"Audio saved as {filename}.mp3\")\n",
        "\n",
        "# Generate audio for all test sentences\n",
        "for i, sentence in enumerate(test_sentences):\n",
        "    filename = f\"test_sentence_{i+1}\"\n",
        "    create_audio_with_censor(sentence, filename)\n",
        "\n",
        "print(\"Audio files with censored content have been created.\")\n"
      ],
      "metadata": {
        "id": "okWxHmmBOIbD",
        "colab": {
          "base_uri": "https://localhost:8080/"
        },
        "outputId": "f9c95e68-2738-4a92-aae6-255cabcc7fd7"
      },
      "execution_count": 82,
      "outputs": [
        {
          "output_type": "stream",
          "name": "stdout",
          "text": [
            "Requirement already satisfied: gTTS in /usr/local/lib/python3.10/dist-packages (2.5.4)\n",
            "Requirement already satisfied: requests<3,>=2.27 in /usr/local/lib/python3.10/dist-packages (from gTTS) (2.32.3)\n",
            "Requirement already satisfied: click<8.2,>=7.1 in /usr/local/lib/python3.10/dist-packages (from gTTS) (8.1.7)\n",
            "Requirement already satisfied: charset-normalizer<4,>=2 in /usr/local/lib/python3.10/dist-packages (from requests<3,>=2.27->gTTS) (3.4.0)\n",
            "Requirement already satisfied: idna<4,>=2.5 in /usr/local/lib/python3.10/dist-packages (from requests<3,>=2.27->gTTS) (3.10)\n",
            "Requirement already satisfied: urllib3<3,>=1.21.1 in /usr/local/lib/python3.10/dist-packages (from requests<3,>=2.27->gTTS) (2.2.3)\n",
            "Requirement already satisfied: certifi>=2017.4.17 in /usr/local/lib/python3.10/dist-packages (from requests<3,>=2.27->gTTS) (2024.8.30)\n",
            "Requirement already satisfied: pydub in /usr/local/lib/python3.10/dist-packages (0.25.1)\n",
            "Requirement already satisfied: gTTS in /usr/local/lib/python3.10/dist-packages (2.5.4)\n",
            "Requirement already satisfied: requests<3,>=2.27 in /usr/local/lib/python3.10/dist-packages (from gTTS) (2.32.3)\n",
            "Requirement already satisfied: click<8.2,>=7.1 in /usr/local/lib/python3.10/dist-packages (from gTTS) (8.1.7)\n",
            "Requirement already satisfied: charset-normalizer<4,>=2 in /usr/local/lib/python3.10/dist-packages (from requests<3,>=2.27->gTTS) (3.4.0)\n",
            "Requirement already satisfied: idna<4,>=2.5 in /usr/local/lib/python3.10/dist-packages (from requests<3,>=2.27->gTTS) (3.10)\n",
            "Requirement already satisfied: urllib3<3,>=1.21.1 in /usr/local/lib/python3.10/dist-packages (from requests<3,>=2.27->gTTS) (2.2.3)\n",
            "Requirement already satisfied: certifi>=2017.4.17 in /usr/local/lib/python3.10/dist-packages (from requests<3,>=2.27->gTTS) (2024.8.30)\n",
            "Requirement already satisfied: pydub in /usr/local/lib/python3.10/dist-packages (0.25.1)\n"
          ]
        },
        {
          "output_type": "stream",
          "name": "stderr",
          "text": [
            "[nltk_data] Downloading package punkt to /root/nltk_data...\n",
            "[nltk_data]   Package punkt is already up-to-date!\n",
            "WARNING:absl:Compiled the loaded model, but the compiled metrics have yet to be built. `model.compile_metrics` will be empty until you train or evaluate the model.\n"
          ]
        },
        {
          "output_type": "stream",
          "name": "stdout",
          "text": [
            "\u001b[1m1/1\u001b[0m \u001b[32m━━━━━━━━━━━━━━━━━━━━\u001b[0m\u001b[37m\u001b[0m \u001b[1m0s\u001b[0m 103ms/step\n",
            "\u001b[1m1/1\u001b[0m \u001b[32m━━━━━━━━━━━━━━━━━━━━\u001b[0m\u001b[37m\u001b[0m \u001b[1m0s\u001b[0m 24ms/step\n",
            "\u001b[1m1/1\u001b[0m \u001b[32m━━━━━━━━━━━━━━━━━━━━\u001b[0m\u001b[37m\u001b[0m \u001b[1m0s\u001b[0m 22ms/step\n",
            "\u001b[1m1/1\u001b[0m \u001b[32m━━━━━━━━━━━━━━━━━━━━\u001b[0m\u001b[37m\u001b[0m \u001b[1m0s\u001b[0m 21ms/step\n",
            "\u001b[1m1/1\u001b[0m \u001b[32m━━━━━━━━━━━━━━━━━━━━\u001b[0m\u001b[37m\u001b[0m \u001b[1m0s\u001b[0m 21ms/step\n",
            "Censored Text: beep bloody beep dirty\n",
            "Audio saved as test_sentence_1.mp3\n",
            "Audio files with censored content have been created.\n"
          ]
        }
      ]
    },
    {
      "cell_type": "code",
      "source": [],
      "metadata": {
        "id": "m4Eq-DE5OIYc"
      },
      "execution_count": 28,
      "outputs": []
    },
    {
      "cell_type": "code",
      "source": [],
      "metadata": {
        "id": "6-Onsxjy_sAY"
      },
      "execution_count": null,
      "outputs": []
    }
  ]
}